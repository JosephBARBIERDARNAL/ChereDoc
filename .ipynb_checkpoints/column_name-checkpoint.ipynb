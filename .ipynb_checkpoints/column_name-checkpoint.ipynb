{
 "cells": [
  {
   "cell_type": "code",
   "execution_count": 2,
   "id": "e9731904-3eba-48e9-ab5b-e03293e55f8e",
   "metadata": {
    "tags": []
   },
   "outputs": [],
   "source": [
    "import pandas as pd\n",
    "import os"
   ]
  },
  {
   "cell_type": "code",
   "execution_count": 7,
   "id": "9ac9433f-5e9f-4059-b2fb-2b16a705e26d",
   "metadata": {
    "tags": []
   },
   "outputs": [],
   "source": [
    "directory = '../files/'\n",
    "distinct_columns = set()\n",
    "\n",
    "# Iterating over each .dta file in the directory\n",
    "for filename in os.listdir(directory):\n",
    "    if filename.endswith('.dta'):\n",
    "        \n",
    "        #print(filename)\n",
    "        \n",
    "        filepath = os.path.join(directory, filename)\n",
    "        data = pd.read_stata(filepath)\n",
    "        distinct_columns.update(data.columns)\n",
    "\n",
    "# lowerize and sort the columns name\n",
    "distinct_columns = [col_name.lower() for col_name in distinct_columns]\n",
    "distinct_columns = sorted(distinct_columns)"
   ]
  },
  {
   "cell_type": "code",
   "execution_count": 9,
   "id": "c9c39939-c033-4ddd-bffb-c4034d471c9d",
   "metadata": {
    "tags": []
   },
   "outputs": [
    {
     "name": "stdout",
     "output_type": "stream",
     "text": [
      "Distinct column names saved to column_names.txt\n"
     ]
    }
   ],
   "source": [
    "# Saving the distinct column names to a file\n",
    "with open('column_names.txt', 'w') as file:\n",
    "    for column in distinct_columns:\n",
    "        file.write(column + '\\n')\n",
    "\n",
    "print(\"Distinct column names saved to column_names.txt\")"
   ]
  },
  {
   "cell_type": "code",
   "execution_count": 5,
   "id": "f0f99c43-4caa-4aa4-8ce3-a28b67404535",
   "metadata": {
    "tags": []
   },
   "outputs": [],
   "source": [
    "column_names = []\n",
    "with open('column_names.txt', 'r') as file:\n",
    "    for line in file:\n",
    "        column_names.append(line.strip())"
   ]
  }
 ],
 "metadata": {
  "kernelspec": {
   "display_name": "Python 3 (ipykernel)",
   "language": "python",
   "name": "python3"
  },
  "language_info": {
   "codemirror_mode": {
    "name": "ipython",
    "version": 3
   },
   "file_extension": ".py",
   "mimetype": "text/x-python",
   "name": "python",
   "nbconvert_exporter": "python",
   "pygments_lexer": "ipython3",
   "version": "3.9.13"
  }
 },
 "nbformat": 4,
 "nbformat_minor": 5
}
