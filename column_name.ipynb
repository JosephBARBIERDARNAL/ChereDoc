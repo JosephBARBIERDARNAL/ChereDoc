{
 "cells": [
  {
   "cell_type": "code",
   "execution_count": 1,
   "id": "e9731904-3eba-48e9-ab5b-e03293e55f8e",
   "metadata": {
    "tags": []
   },
   "outputs": [],
   "source": [
    "import pandas as pd\n",
    "import os"
   ]
  },
  {
   "cell_type": "code",
   "execution_count": 2,
   "id": "c9c39939-c033-4ddd-bffb-c4034d471c9d",
   "metadata": {
    "tags": []
   },
   "outputs": [
    {
     "name": "stdout",
     "output_type": "stream",
     "text": [
      "sharew8_rel8-0-0_sp.dta\n",
      "sharew8_rel8-0-0_gv_weights.dta\n",
      "sharew8_rel8-0-0_sr.dta\n",
      "sharew8_rel8-0-0_ho.dta\n",
      "sharew8_rel8-0-0_gv_accelerometer_day.dta\n",
      "sharew8_rel8-0-0_gs.dta\n",
      "sharew8_rel8-0-0_ft.dta\n",
      "sharew8_rel8-0-0_ex.dta\n",
      "sharew8_rel8-0-0_xt.dta\n",
      "sharew8_rel8-0-0_technical_variables.dta\n",
      "sharew8_rel8-0-0_ac.dta\n",
      "sharew8_rel8-0-0_co.dta\n",
      "sharew8_rel8-0-0_gv_networks.dta\n",
      "sharew8_rel8-0-0_as.dta\n",
      "sharew8_rel8-0-0_te.dta\n",
      "sharew8_rel8-0-0_gv_big5.dta\n",
      "sharew8_rel8-0-0_gv_children.dta\n",
      "sharew8_rel8-0-0_cf.dta\n",
      "sharew8_rel8-0-0_ax.dta\n",
      "sharew8_rel8-0-0_cv_r.dta\n",
      "sharew8_rel8-0-0_gv_housing.dta\n",
      "sharew8_rel8-0-0_sn.dta\n",
      "sharew8_rel8-0-0_iv.dta\n",
      "sharew8_rel8-0-0_gv_exrates.dta\n",
      "sharew8_rel8-0-0_it.dta\n",
      "sharew8_rel8-0-0_gv_accelerometer_hour.dta\n",
      "sharew8_rel8-0-0_hc.dta\n",
      "sharew8_rel8-0-0_gv_imputations.dta\n",
      "sharew8_rel8-0-0_gv_accelerometer_total.dta\n",
      "sharew8_rel8-0-0_dropoff.dta\n",
      "Distinct column names saved to column_names.txt\n"
     ]
    }
   ],
   "source": [
    "directory = 'data/files/'\n",
    "distinct_columns = set()\n",
    "\n",
    "# Iterating over each .dta file in the directory\n",
    "for filename in os.listdir(directory):\n",
    "    if filename.endswith('.dta'):\n",
    "        \n",
    "        print(filename)\n",
    "        \n",
    "        filepath = os.path.join(directory, filename)\n",
    "        data = pd.read_stata(filepath)\n",
    "        distinct_columns.update(data.columns)\n",
    "\n",
    "# Saving the distinct column names to a file\n",
    "with open('column_names.txt', 'w') as file:\n",
    "    for column in distinct_columns:\n",
    "        file.write(column + '\\n')\n",
    "\n",
    "print(\"Distinct column names saved to column_names.txt\")"
   ]
  },
  {
   "cell_type": "code",
   "execution_count": 5,
   "id": "f0f99c43-4caa-4aa4-8ce3-a28b67404535",
   "metadata": {
    "tags": []
   },
   "outputs": [],
   "source": [
    "column_names = []\n",
    "with open('column_names.txt', 'r') as file:\n",
    "    for line in file:\n",
    "        column_names.append(line.strip())"
   ]
  }
 ],
 "metadata": {
  "kernelspec": {
   "display_name": "Python 3 (ipykernel)",
   "language": "python",
   "name": "python3"
  },
  "language_info": {
   "codemirror_mode": {
    "name": "ipython",
    "version": 3
   },
   "file_extension": ".py",
   "mimetype": "text/x-python",
   "name": "python",
   "nbconvert_exporter": "python",
   "pygments_lexer": "ipython3",
   "version": "3.9.13"
  }
 },
 "nbformat": 4,
 "nbformat_minor": 5
}
