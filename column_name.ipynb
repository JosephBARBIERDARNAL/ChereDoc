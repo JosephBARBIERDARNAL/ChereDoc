{
 "cells": [
  {
   "cell_type": "code",
   "execution_count": 1,
   "id": "e9731904-3eba-48e9-ab5b-e03293e55f8e",
   "metadata": {
    "tags": []
   },
   "outputs": [],
   "source": [
    "import pandas as pd\n",
    "import os"
   ]
  },
  {
   "cell_type": "code",
   "execution_count": 7,
   "id": "0959e92c-9728-4206-a6ff-8594f2de956d",
   "metadata": {
    "tags": []
   },
   "outputs": [],
   "source": [
    "def save_column_names(directory, wave):\n",
    "    \n",
    "    distinct_columns = set()\n",
    "\n",
    "    # Iterating over each .dta file in the directory\n",
    "    for filename in os.listdir(directory):\n",
    "        if filename.endswith('.dta'):\n",
    "\n",
    "            filepath = os.path.join(directory, filename)\n",
    "            data = pd.read_stata(filepath)\n",
    "            distinct_columns.update(data.columns)\n",
    "\n",
    "    # lowerize and sort the columns name\n",
    "    distinct_columns = [col_name.lower() for col_name in distinct_columns]\n",
    "    distinct_columns = sorted(distinct_columns)\n",
    "    \n",
    "    # Saving the distinct column names to a file\n",
    "    with open(f'data/column_names/column_names_wave{wave}.txt', 'w') as file:\n",
    "        for column in distinct_columns:\n",
    "            file.write(column + '\\n')\n",
    "\n",
    "    print(\"Distinct column names saved\")\n",
    "    \n",
    "    return distinct_columns\n",
    "\n",
    "\n",
    "def get_column_names(wave, path_to_txt='data/column_names/'):\n",
    "    \n",
    "    column_names = []\n",
    "    with open(f'{path_to_txt}column_names_wave{str(wave)}.txt', 'r') as file:\n",
    "        for line in file:\n",
    "            column_names.append(line.strip())\n",
    "            \n",
    "    return column_names"
   ]
  },
  {
   "cell_type": "code",
   "execution_count": 8,
   "id": "f8213e28",
   "metadata": {},
   "outputs": [
    {
     "name": "stdout",
     "output_type": "stream",
     "text": [
      "Distinct column names saved\n",
      "Wave 1 has 2201 columns\n",
      "Distinct column names saved\n",
      "Wave 2 has 2496 columns\n",
      "Distinct column names saved\n",
      "Wave 3 has 3264 columns\n",
      "Distinct column names saved\n",
      "Wave 4 has 4203 columns\n",
      "Distinct column names saved\n",
      "Wave 5 has 3816 columns\n",
      "Distinct column names saved\n",
      "Wave 6 has 5406 columns\n"
     ]
    },
    {
     "ename": "ValueError",
     "evalue": "\nValue labels for column rc033_1 are not unique. These cannot be converted to\npandas categoricals.\n\nEither read the file with `convert_categoricals` set to False or use the\nlow level interface in `StataReader` to separately read the values and the\nvalue_labels.\n\nThe repeated labels are:\n--------------------------------------------------------------------------------\ncountry-specific category\n",
     "output_type": "error",
     "traceback": [
      "\u001b[0;31m---------------------------------------------------------------------------\u001b[0m",
      "\u001b[0;31mValueError\u001b[0m                                Traceback (most recent call last)",
      "File \u001b[0;32m~/Desktop/ChereDoc/venv/lib/python3.9/site-packages/pandas/io/stata.py:2004\u001b[0m, in \u001b[0;36mStataReader._do_convert_categoricals\u001b[0;34m(self, data, value_label_dict, lbllist, order_categoricals)\u001b[0m\n\u001b[1;32m   2001\u001b[0m \u001b[39mtry\u001b[39;00m:\n\u001b[1;32m   2002\u001b[0m     \u001b[39m# Try to catch duplicate categories\u001b[39;00m\n\u001b[1;32m   2003\u001b[0m     \u001b[39m# TODO: if we get a non-copying rename_categories, use that\u001b[39;00m\n\u001b[0;32m-> 2004\u001b[0m     cat_data \u001b[39m=\u001b[39m cat_data\u001b[39m.\u001b[39;49mrename_categories(categories)\n\u001b[1;32m   2005\u001b[0m \u001b[39mexcept\u001b[39;00m \u001b[39mValueError\u001b[39;00m \u001b[39mas\u001b[39;00m err:\n",
      "File \u001b[0;32m~/Desktop/ChereDoc/venv/lib/python3.9/site-packages/pandas/core/arrays/categorical.py:1178\u001b[0m, in \u001b[0;36mCategorical.rename_categories\u001b[0;34m(self, new_categories)\u001b[0m\n\u001b[1;32m   1177\u001b[0m cat \u001b[39m=\u001b[39m \u001b[39mself\u001b[39m\u001b[39m.\u001b[39mcopy()\n\u001b[0;32m-> 1178\u001b[0m cat\u001b[39m.\u001b[39;49m_set_categories(new_categories)\n\u001b[1;32m   1179\u001b[0m \u001b[39mreturn\u001b[39;00m cat\n",
      "File \u001b[0;32m~/Desktop/ChereDoc/venv/lib/python3.9/site-packages/pandas/core/arrays/categorical.py:897\u001b[0m, in \u001b[0;36mCategorical._set_categories\u001b[0;34m(self, categories, fastpath)\u001b[0m\n\u001b[1;32m    896\u001b[0m \u001b[39melse\u001b[39;00m:\n\u001b[0;32m--> 897\u001b[0m     new_dtype \u001b[39m=\u001b[39m CategoricalDtype(categories, ordered\u001b[39m=\u001b[39;49m\u001b[39mself\u001b[39;49m\u001b[39m.\u001b[39;49mordered)\n\u001b[1;32m    898\u001b[0m \u001b[39mif\u001b[39;00m (\n\u001b[1;32m    899\u001b[0m     \u001b[39mnot\u001b[39;00m fastpath\n\u001b[1;32m    900\u001b[0m     \u001b[39mand\u001b[39;00m \u001b[39mself\u001b[39m\u001b[39m.\u001b[39mdtype\u001b[39m.\u001b[39mcategories \u001b[39mis\u001b[39;00m \u001b[39mnot\u001b[39;00m \u001b[39mNone\u001b[39;00m\n\u001b[1;32m    901\u001b[0m     \u001b[39mand\u001b[39;00m \u001b[39mlen\u001b[39m(new_dtype\u001b[39m.\u001b[39mcategories) \u001b[39m!=\u001b[39m \u001b[39mlen\u001b[39m(\u001b[39mself\u001b[39m\u001b[39m.\u001b[39mdtype\u001b[39m.\u001b[39mcategories)\n\u001b[1;32m    902\u001b[0m ):\n",
      "File \u001b[0;32m~/Desktop/ChereDoc/venv/lib/python3.9/site-packages/pandas/core/dtypes/dtypes.py:211\u001b[0m, in \u001b[0;36mCategoricalDtype.__init__\u001b[0;34m(self, categories, ordered)\u001b[0m\n\u001b[1;32m    210\u001b[0m \u001b[39mdef\u001b[39;00m \u001b[39m__init__\u001b[39m(\u001b[39mself\u001b[39m, categories\u001b[39m=\u001b[39m\u001b[39mNone\u001b[39;00m, ordered: Ordered \u001b[39m=\u001b[39m \u001b[39mFalse\u001b[39;00m) \u001b[39m-\u001b[39m\u001b[39m>\u001b[39m \u001b[39mNone\u001b[39;00m:\n\u001b[0;32m--> 211\u001b[0m     \u001b[39mself\u001b[39;49m\u001b[39m.\u001b[39;49m_finalize(categories, ordered, fastpath\u001b[39m=\u001b[39;49m\u001b[39mFalse\u001b[39;49;00m)\n",
      "File \u001b[0;32m~/Desktop/ChereDoc/venv/lib/python3.9/site-packages/pandas/core/dtypes/dtypes.py:368\u001b[0m, in \u001b[0;36mCategoricalDtype._finalize\u001b[0;34m(self, categories, ordered, fastpath)\u001b[0m\n\u001b[1;32m    367\u001b[0m \u001b[39mif\u001b[39;00m categories \u001b[39mis\u001b[39;00m \u001b[39mnot\u001b[39;00m \u001b[39mNone\u001b[39;00m:\n\u001b[0;32m--> 368\u001b[0m     categories \u001b[39m=\u001b[39m \u001b[39mself\u001b[39;49m\u001b[39m.\u001b[39;49mvalidate_categories(categories, fastpath\u001b[39m=\u001b[39;49mfastpath)\n\u001b[1;32m    370\u001b[0m \u001b[39mself\u001b[39m\u001b[39m.\u001b[39m_categories \u001b[39m=\u001b[39m categories\n",
      "File \u001b[0;32m~/Desktop/ChereDoc/venv/lib/python3.9/site-packages/pandas/core/dtypes/dtypes.py:570\u001b[0m, in \u001b[0;36mCategoricalDtype.validate_categories\u001b[0;34m(categories, fastpath)\u001b[0m\n\u001b[1;32m    569\u001b[0m     \u001b[39mif\u001b[39;00m \u001b[39mnot\u001b[39;00m categories\u001b[39m.\u001b[39mis_unique:\n\u001b[0;32m--> 570\u001b[0m         \u001b[39mraise\u001b[39;00m \u001b[39mValueError\u001b[39;00m(\u001b[39m\"\u001b[39m\u001b[39mCategorical categories must be unique\u001b[39m\u001b[39m\"\u001b[39m)\n\u001b[1;32m    572\u001b[0m \u001b[39mif\u001b[39;00m \u001b[39misinstance\u001b[39m(categories, ABCCategoricalIndex):\n",
      "\u001b[0;31mValueError\u001b[0m: Categorical categories must be unique",
      "\nThe above exception was the direct cause of the following exception:\n",
      "\u001b[0;31mValueError\u001b[0m                                Traceback (most recent call last)",
      "Cell \u001b[0;32mIn[8], line 3\u001b[0m\n\u001b[1;32m      1\u001b[0m \u001b[39mfor\u001b[39;00m wave \u001b[39min\u001b[39;00m \u001b[39mrange\u001b[39m(\u001b[39m1\u001b[39m, \u001b[39m10\u001b[39m):\n\u001b[1;32m      2\u001b[0m     directory \u001b[39m=\u001b[39m \u001b[39mf\u001b[39m\u001b[39m'\u001b[39m\u001b[39m../SHARE/data/sharew\u001b[39m\u001b[39m{\u001b[39;00mwave\u001b[39m}\u001b[39;00m\u001b[39m_rel8-0-0_ALL_datasets_stata/\u001b[39m\u001b[39m'\u001b[39m\n\u001b[0;32m----> 3\u001b[0m     column_names \u001b[39m=\u001b[39m save_column_names(directory, wave)\n\u001b[1;32m      4\u001b[0m     \u001b[39mprint\u001b[39m(\u001b[39mf\u001b[39m\u001b[39m\"\u001b[39m\u001b[39mWave \u001b[39m\u001b[39m{\u001b[39;00mwave\u001b[39m}\u001b[39;00m\u001b[39m has \u001b[39m\u001b[39m{\u001b[39;00m\u001b[39mlen\u001b[39m(column_names)\u001b[39m}\u001b[39;00m\u001b[39m columns\u001b[39m\u001b[39m\"\u001b[39m)\n",
      "Cell \u001b[0;32mIn[7], line 10\u001b[0m, in \u001b[0;36msave_column_names\u001b[0;34m(directory, wave)\u001b[0m\n\u001b[1;32m      7\u001b[0m     \u001b[39mif\u001b[39;00m filename\u001b[39m.\u001b[39mendswith(\u001b[39m'\u001b[39m\u001b[39m.dta\u001b[39m\u001b[39m'\u001b[39m):\n\u001b[1;32m      9\u001b[0m         filepath \u001b[39m=\u001b[39m os\u001b[39m.\u001b[39mpath\u001b[39m.\u001b[39mjoin(directory, filename)\n\u001b[0;32m---> 10\u001b[0m         data \u001b[39m=\u001b[39m pd\u001b[39m.\u001b[39;49mread_stata(filepath)\n\u001b[1;32m     11\u001b[0m         distinct_columns\u001b[39m.\u001b[39mupdate(data\u001b[39m.\u001b[39mcolumns)\n\u001b[1;32m     13\u001b[0m \u001b[39m# lowerize and sort the columns name\u001b[39;00m\n",
      "File \u001b[0;32m~/Desktop/ChereDoc/venv/lib/python3.9/site-packages/pandas/io/stata.py:2150\u001b[0m, in \u001b[0;36mread_stata\u001b[0;34m(filepath_or_buffer, convert_dates, convert_categoricals, index_col, convert_missing, preserve_dtypes, columns, order_categoricals, chunksize, iterator, compression, storage_options)\u001b[0m\n\u001b[1;32m   2147\u001b[0m     \u001b[39mreturn\u001b[39;00m reader\n\u001b[1;32m   2149\u001b[0m \u001b[39mwith\u001b[39;00m reader:\n\u001b[0;32m-> 2150\u001b[0m     \u001b[39mreturn\u001b[39;00m reader\u001b[39m.\u001b[39;49mread()\n",
      "File \u001b[0;32m~/Desktop/ChereDoc/venv/lib/python3.9/site-packages/pandas/io/stata.py:1836\u001b[0m, in \u001b[0;36mStataReader.read\u001b[0;34m(self, nrows, convert_dates, convert_categoricals, index_col, convert_missing, preserve_dtypes, columns, order_categoricals)\u001b[0m\n\u001b[1;32m   1831\u001b[0m         data[col] \u001b[39m=\u001b[39m _stata_elapsed_date_to_datetime_vec(\n\u001b[1;32m   1832\u001b[0m             data[col], \u001b[39mself\u001b[39m\u001b[39m.\u001b[39m_fmtlist[i]\n\u001b[1;32m   1833\u001b[0m         )\n\u001b[1;32m   1835\u001b[0m \u001b[39mif\u001b[39;00m convert_categoricals \u001b[39mand\u001b[39;00m \u001b[39mself\u001b[39m\u001b[39m.\u001b[39m_format_version \u001b[39m>\u001b[39m \u001b[39m108\u001b[39m:\n\u001b[0;32m-> 1836\u001b[0m     data \u001b[39m=\u001b[39m \u001b[39mself\u001b[39;49m\u001b[39m.\u001b[39;49m_do_convert_categoricals(\n\u001b[1;32m   1837\u001b[0m         data, \u001b[39mself\u001b[39;49m\u001b[39m.\u001b[39;49m_value_label_dict, \u001b[39mself\u001b[39;49m\u001b[39m.\u001b[39;49m_lbllist, order_categoricals\n\u001b[1;32m   1838\u001b[0m     )\n\u001b[1;32m   1840\u001b[0m \u001b[39mif\u001b[39;00m \u001b[39mnot\u001b[39;00m preserve_dtypes:\n\u001b[1;32m   1841\u001b[0m     retyped_data \u001b[39m=\u001b[39m []\n",
      "File \u001b[0;32m~/Desktop/ChereDoc/venv/lib/python3.9/site-packages/pandas/io/stata.py:2021\u001b[0m, in \u001b[0;36mStataReader._do_convert_categoricals\u001b[0;34m(self, data, value_label_dict, lbllist, order_categoricals)\u001b[0m\n\u001b[1;32m   2009\u001b[0m                     \u001b[39m# GH 25772\u001b[39;00m\n\u001b[1;32m   2010\u001b[0m                     msg \u001b[39m=\u001b[39m \u001b[39mf\u001b[39m\u001b[39m\"\"\"\u001b[39m\n\u001b[1;32m   2011\u001b[0m \u001b[39mValue labels for column \u001b[39m\u001b[39m{\u001b[39;00mcol\u001b[39m}\u001b[39;00m\u001b[39m are not unique. These cannot be converted to\u001b[39m\n\u001b[1;32m   2012\u001b[0m \u001b[39mpandas categoricals.\u001b[39m\n\u001b[0;32m   (...)\u001b[0m\n\u001b[1;32m   2019\u001b[0m \u001b[39m{\u001b[39;00mrepeats\u001b[39m}\u001b[39;00m\n\u001b[1;32m   2020\u001b[0m \u001b[39m\"\"\"\u001b[39m\n\u001b[0;32m-> 2021\u001b[0m                     \u001b[39mraise\u001b[39;00m \u001b[39mValueError\u001b[39;00m(msg) \u001b[39mfrom\u001b[39;00m \u001b[39merr\u001b[39;00m\n\u001b[1;32m   2022\u001b[0m                 \u001b[39m# TODO: is the next line needed above in the data(...) method?\u001b[39;00m\n\u001b[1;32m   2023\u001b[0m                 cat_series \u001b[39m=\u001b[39m Series(cat_data, index\u001b[39m=\u001b[39mdata\u001b[39m.\u001b[39mindex, copy\u001b[39m=\u001b[39m\u001b[39mFalse\u001b[39;00m)\n",
      "\u001b[0;31mValueError\u001b[0m: \nValue labels for column rc033_1 are not unique. These cannot be converted to\npandas categoricals.\n\nEither read the file with `convert_categoricals` set to False or use the\nlow level interface in `StataReader` to separately read the values and the\nvalue_labels.\n\nThe repeated labels are:\n--------------------------------------------------------------------------------\ncountry-specific category\n"
     ]
    }
   ],
   "source": [
    "for wave in range(1, 10):\n",
    "    directory = f'../SHARE/data/sharew{wave}_rel8-0-0_ALL_datasets_stata/'\n",
    "    column_names = save_column_names(directory, wave)\n",
    "    print(f\"Wave {wave} has {len(column_names)} columns\")"
   ]
  }
 ],
 "metadata": {
  "kernelspec": {
   "display_name": "Python 3 (ipykernel)",
   "language": "python",
   "name": "python3"
  },
  "language_info": {
   "codemirror_mode": {
    "name": "ipython",
    "version": 3
   },
   "file_extension": ".py",
   "mimetype": "text/x-python",
   "name": "python",
   "nbconvert_exporter": "python",
   "pygments_lexer": "ipython3",
   "version": "3.9.6"
  }
 },
 "nbformat": 4,
 "nbformat_minor": 5
}
