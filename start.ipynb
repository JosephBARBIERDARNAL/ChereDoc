{
 "cells": [
  {
   "cell_type": "code",
   "execution_count": 1,
   "metadata": {
    "tags": []
   },
   "outputs": [],
   "source": [
    "from src.func import *\n",
    "import pandas as pd\n",
    "from openai import OpenAI\n",
    "client = OpenAI(api_key=st.secrets[\"api_key\"])\n",
    "import os"
   ]
  },
  {
   "cell_type": "code",
   "execution_count": 3,
   "metadata": {
    "tags": []
   },
   "outputs": [
    {
     "name": "stdout",
     "output_type": "stream",
     "text": [
      "ch004_ firstnameofchild \n",
      "[('the name ' + preloadedname) + ' was found.'] \n",
      "what is the [correct] first name of this child \n",
      "\n",
      "What is the correct first name of this child?\n"
     ]
    }
   ],
   "source": [
    "df = pd.read_csv('data/doc.csv')\n",
    "str_test = df['text'][0]\n",
    "\n",
    "content = extract_content('ch004_', str_test)\n",
    "print(content,'\\n')\n",
    "print(call_gpt(client, content))"
   ]
  },
  {
   "cell_type": "code",
   "execution_count": 4,
   "metadata": {
    "tags": []
   },
   "outputs": [
    {
     "name": "stdout",
     "output_type": "stream",
     "text": [
      "w5_main_en.pdf\n",
      "corona1_en.pdf\n",
      "w9_main_en.pdf\n",
      "w3_main_en.pdf\n",
      "w6_main_en.pdf\n",
      "w1_main_en.pdf\n",
      "corona2_en.pdf\n",
      "w8_main_en.pdf\n",
      "w4_main_en.pdf\n",
      "w7_main_en.pdf\n",
      "w2_main_en.pdf\n"
     ]
    },
    {
     "data": {
      "text/html": [
       "<div>\n",
       "<style scoped>\n",
       "    .dataframe tbody tr th:only-of-type {\n",
       "        vertical-align: middle;\n",
       "    }\n",
       "\n",
       "    .dataframe tbody tr th {\n",
       "        vertical-align: top;\n",
       "    }\n",
       "\n",
       "    .dataframe thead th {\n",
       "        text-align: right;\n",
       "    }\n",
       "</style>\n",
       "<table border=\"1\" class=\"dataframe\">\n",
       "  <thead>\n",
       "    <tr style=\"text-align: right;\">\n",
       "      <th></th>\n",
       "      <th>text</th>\n",
       "      <th>name</th>\n",
       "    </tr>\n",
       "  </thead>\n",
       "  <tbody>\n",
       "    <tr>\n",
       "      <th>0</th>\n",
       "      <td>if mn021_ version = emptyendif\\nif mn001_ coun...</td>\n",
       "      <td>w5_main_en.pdf</td>\n",
       "    </tr>\n",
       "    <tr>\n",
       "      <th>1</th>\n",
       "      <td>1 \\n covid -19 questionnaire for telephone int...</td>\n",
       "      <td>corona1_en.pdf</td>\n",
       "    </tr>\n",
       "    <tr>\n",
       "      <th>2</th>\n",
       "      <td>file:///h/notizen/paperversion_ en_ gb_ 9_ 2_ ...</td>\n",
       "      <td>w9_main_en.pdf</td>\n",
       "    </tr>\n",
       "    <tr>\n",
       "      <th>3</th>\n",
       "      <td>1 sharelife: 50+ in europe - questionnaire ve...</td>\n",
       "      <td>w3_main_en.pdf</td>\n",
       "    </tr>\n",
       "    <tr>\n",
       "      <th>4</th>\n",
       "      <td>system preset value sampid\\nsystem preset valu...</td>\n",
       "      <td>w6_main_en.pdf</td>\n",
       "    </tr>\n",
       "  </tbody>\n",
       "</table>\n",
       "</div>"
      ],
      "text/plain": [
       "                                                text            name\n",
       "0  if mn021_ version = emptyendif\\nif mn001_ coun...  w5_main_en.pdf\n",
       "1  1 \\n covid -19 questionnaire for telephone int...  corona1_en.pdf\n",
       "2  file:///h/notizen/paperversion_ en_ gb_ 9_ 2_ ...  w9_main_en.pdf\n",
       "3   1 sharelife: 50+ in europe - questionnaire ve...  w3_main_en.pdf\n",
       "4  system preset value sampid\\nsystem preset valu...  w6_main_en.pdf"
      ]
     },
     "execution_count": 4,
     "metadata": {},
     "output_type": "execute_result"
    }
   ],
   "source": [
    "df = pd.DataFrame(columns=['text', 'name'])\n",
    "path = 'data/doc/'\n",
    "for file_name in os.listdir(path):\n",
    "    if file_name.endswith('.pdf'):\n",
    "        file_path = path + file_name\n",
    "        \n",
    "        # read and clean text\n",
    "        text = read_pdf(file_path)\n",
    "        text = clean_text(text)\n",
    "        \n",
    "        # add to dataframe\n",
    "        temp_df = pd.DataFrame([[text, file_name]], columns=['text', 'name'])\n",
    "        df = pd.concat([df, temp_df])\n",
    "        print(file_name)\n",
    "\n",
    "# reset index and save\n",
    "df.index = range(len(df))\n",
    "df.to_csv('data/doc.csv', index=False)\n",
    "df.head()"
   ]
  }
 ],
 "metadata": {
  "kernelspec": {
   "display_name": "Python 3 (ipykernel)",
   "language": "python",
   "name": "python3"
  },
  "language_info": {
   "codemirror_mode": {
    "name": "ipython",
    "version": 3
   },
   "file_extension": ".py",
   "mimetype": "text/x-python",
   "name": "python",
   "nbconvert_exporter": "python",
   "pygments_lexer": "ipython3",
   "version": "3.9.6"
  }
 },
 "nbformat": 4,
 "nbformat_minor": 4
}
